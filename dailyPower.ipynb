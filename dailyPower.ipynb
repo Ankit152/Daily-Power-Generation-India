{
 "cells": [
  {
   "cell_type": "markdown",
   "metadata": {},
   "source": [
    "# Daily Power Generation in India "
   ]
  },
  {
   "cell_type": "code",
   "execution_count": 1,
   "metadata": {},
   "outputs": [],
   "source": [
    "import re\n",
    "import numpy as np\n",
    "import pandas as pd\n",
    "import matplotlib.pyplot as plt\n",
    "import seaborn as sns"
   ]
  },
  {
   "cell_type": "code",
   "execution_count": 2,
   "metadata": {},
   "outputs": [],
   "source": [
    "data=pd.read_csv('data.csv')"
   ]
  },
  {
   "cell_type": "markdown",
   "metadata": {},
   "source": [
    "## Understanding the data and EDA"
   ]
  },
  {
   "cell_type": "code",
   "execution_count": 3,
   "metadata": {},
   "outputs": [
    {
     "data": {
      "text/html": [
       "<div>\n",
       "<style scoped>\n",
       "    .dataframe tbody tr th:only-of-type {\n",
       "        vertical-align: middle;\n",
       "    }\n",
       "\n",
       "    .dataframe tbody tr th {\n",
       "        vertical-align: top;\n",
       "    }\n",
       "\n",
       "    .dataframe thead th {\n",
       "        text-align: right;\n",
       "    }\n",
       "</style>\n",
       "<table border=\"1\" class=\"dataframe\">\n",
       "  <thead>\n",
       "    <tr style=\"text-align: right;\">\n",
       "      <th></th>\n",
       "      <th>index</th>\n",
       "      <th>Date</th>\n",
       "      <th>Region</th>\n",
       "      <th>Thermal Generation Actual (in MU)</th>\n",
       "      <th>Thermal Generation Estimated (in MU)</th>\n",
       "      <th>Nuclear Generation Actual (in MU)</th>\n",
       "      <th>Nuclear Generation Estimated (in MU)</th>\n",
       "      <th>Hydro Generation Actual (in MU)</th>\n",
       "      <th>Hydro Generation Estimated (in MU)</th>\n",
       "    </tr>\n",
       "  </thead>\n",
       "  <tbody>\n",
       "    <tr>\n",
       "      <th>0</th>\n",
       "      <td>0</td>\n",
       "      <td>2017-09-01</td>\n",
       "      <td>Northern</td>\n",
       "      <td>624.23</td>\n",
       "      <td>484.21</td>\n",
       "      <td>30.36</td>\n",
       "      <td>35.57</td>\n",
       "      <td>273.27</td>\n",
       "      <td>320.81</td>\n",
       "    </tr>\n",
       "    <tr>\n",
       "      <th>1</th>\n",
       "      <td>1</td>\n",
       "      <td>2017-09-01</td>\n",
       "      <td>Western</td>\n",
       "      <td>1,106.89</td>\n",
       "      <td>1,024.33</td>\n",
       "      <td>25.17</td>\n",
       "      <td>3.81</td>\n",
       "      <td>72.00</td>\n",
       "      <td>21.53</td>\n",
       "    </tr>\n",
       "    <tr>\n",
       "      <th>2</th>\n",
       "      <td>2</td>\n",
       "      <td>2017-09-01</td>\n",
       "      <td>Southern</td>\n",
       "      <td>576.66</td>\n",
       "      <td>578.55</td>\n",
       "      <td>62.73</td>\n",
       "      <td>49.80</td>\n",
       "      <td>111.57</td>\n",
       "      <td>64.78</td>\n",
       "    </tr>\n",
       "    <tr>\n",
       "      <th>3</th>\n",
       "      <td>3</td>\n",
       "      <td>2017-09-01</td>\n",
       "      <td>Eastern</td>\n",
       "      <td>441.02</td>\n",
       "      <td>429.39</td>\n",
       "      <td>NaN</td>\n",
       "      <td>NaN</td>\n",
       "      <td>85.94</td>\n",
       "      <td>69.36</td>\n",
       "    </tr>\n",
       "    <tr>\n",
       "      <th>4</th>\n",
       "      <td>4</td>\n",
       "      <td>2017-09-01</td>\n",
       "      <td>NorthEastern</td>\n",
       "      <td>29.11</td>\n",
       "      <td>15.91</td>\n",
       "      <td>NaN</td>\n",
       "      <td>NaN</td>\n",
       "      <td>24.64</td>\n",
       "      <td>21.21</td>\n",
       "    </tr>\n",
       "  </tbody>\n",
       "</table>\n",
       "</div>"
      ],
      "text/plain": [
       "   index        Date        Region Thermal Generation Actual (in MU)  \\\n",
       "0      0  2017-09-01      Northern                            624.23   \n",
       "1      1  2017-09-01       Western                          1,106.89   \n",
       "2      2  2017-09-01      Southern                            576.66   \n",
       "3      3  2017-09-01       Eastern                            441.02   \n",
       "4      4  2017-09-01  NorthEastern                             29.11   \n",
       "\n",
       "  Thermal Generation Estimated (in MU)  Nuclear Generation Actual (in MU)  \\\n",
       "0                               484.21                              30.36   \n",
       "1                             1,024.33                              25.17   \n",
       "2                               578.55                              62.73   \n",
       "3                               429.39                                NaN   \n",
       "4                                15.91                                NaN   \n",
       "\n",
       "   Nuclear Generation Estimated (in MU)  Hydro Generation Actual (in MU)  \\\n",
       "0                                 35.57                           273.27   \n",
       "1                                  3.81                            72.00   \n",
       "2                                 49.80                           111.57   \n",
       "3                                   NaN                            85.94   \n",
       "4                                   NaN                            24.64   \n",
       "\n",
       "   Hydro Generation Estimated (in MU)  \n",
       "0                              320.81  \n",
       "1                               21.53  \n",
       "2                               64.78  \n",
       "3                               69.36  \n",
       "4                               21.21  "
      ]
     },
     "execution_count": 3,
     "metadata": {},
     "output_type": "execute_result"
    }
   ],
   "source": [
    "# five elements from top\n",
    "data.head()"
   ]
  },
  {
   "cell_type": "code",
   "execution_count": 4,
   "metadata": {},
   "outputs": [
    {
     "data": {
      "text/html": [
       "<div>\n",
       "<style scoped>\n",
       "    .dataframe tbody tr th:only-of-type {\n",
       "        vertical-align: middle;\n",
       "    }\n",
       "\n",
       "    .dataframe tbody tr th {\n",
       "        vertical-align: top;\n",
       "    }\n",
       "\n",
       "    .dataframe thead th {\n",
       "        text-align: right;\n",
       "    }\n",
       "</style>\n",
       "<table border=\"1\" class=\"dataframe\">\n",
       "  <thead>\n",
       "    <tr style=\"text-align: right;\">\n",
       "      <th></th>\n",
       "      <th>index</th>\n",
       "      <th>Date</th>\n",
       "      <th>Region</th>\n",
       "      <th>Thermal Generation Actual (in MU)</th>\n",
       "      <th>Thermal Generation Estimated (in MU)</th>\n",
       "      <th>Nuclear Generation Actual (in MU)</th>\n",
       "      <th>Nuclear Generation Estimated (in MU)</th>\n",
       "      <th>Hydro Generation Actual (in MU)</th>\n",
       "      <th>Hydro Generation Estimated (in MU)</th>\n",
       "    </tr>\n",
       "  </thead>\n",
       "  <tbody>\n",
       "    <tr>\n",
       "      <th>4940</th>\n",
       "      <td>305</td>\n",
       "      <td>2020-08-01</td>\n",
       "      <td>Northern</td>\n",
       "      <td>669.47</td>\n",
       "      <td>602.96</td>\n",
       "      <td>26.88</td>\n",
       "      <td>23.41</td>\n",
       "      <td>348.72</td>\n",
       "      <td>351.98</td>\n",
       "    </tr>\n",
       "    <tr>\n",
       "      <th>4941</th>\n",
       "      <td>306</td>\n",
       "      <td>2020-08-01</td>\n",
       "      <td>Western</td>\n",
       "      <td>1,116.00</td>\n",
       "      <td>1,262.10</td>\n",
       "      <td>42.37</td>\n",
       "      <td>36.63</td>\n",
       "      <td>54.67</td>\n",
       "      <td>20.28</td>\n",
       "    </tr>\n",
       "    <tr>\n",
       "      <th>4942</th>\n",
       "      <td>307</td>\n",
       "      <td>2020-08-01</td>\n",
       "      <td>Southern</td>\n",
       "      <td>494.66</td>\n",
       "      <td>415.53</td>\n",
       "      <td>61.83</td>\n",
       "      <td>26.28</td>\n",
       "      <td>93.49</td>\n",
       "      <td>77.25</td>\n",
       "    </tr>\n",
       "    <tr>\n",
       "      <th>4943</th>\n",
       "      <td>308</td>\n",
       "      <td>2020-08-01</td>\n",
       "      <td>Eastern</td>\n",
       "      <td>482.86</td>\n",
       "      <td>547.03</td>\n",
       "      <td>NaN</td>\n",
       "      <td>NaN</td>\n",
       "      <td>87.22</td>\n",
       "      <td>93.78</td>\n",
       "    </tr>\n",
       "    <tr>\n",
       "      <th>4944</th>\n",
       "      <td>309</td>\n",
       "      <td>2020-08-01</td>\n",
       "      <td>NorthEastern</td>\n",
       "      <td>34.42</td>\n",
       "      <td>32.81</td>\n",
       "      <td>NaN</td>\n",
       "      <td>NaN</td>\n",
       "      <td>29.87</td>\n",
       "      <td>29.96</td>\n",
       "    </tr>\n",
       "  </tbody>\n",
       "</table>\n",
       "</div>"
      ],
      "text/plain": [
       "      index        Date        Region Thermal Generation Actual (in MU)  \\\n",
       "4940    305  2020-08-01      Northern                            669.47   \n",
       "4941    306  2020-08-01       Western                          1,116.00   \n",
       "4942    307  2020-08-01      Southern                            494.66   \n",
       "4943    308  2020-08-01       Eastern                            482.86   \n",
       "4944    309  2020-08-01  NorthEastern                             34.42   \n",
       "\n",
       "     Thermal Generation Estimated (in MU)  Nuclear Generation Actual (in MU)  \\\n",
       "4940                               602.96                              26.88   \n",
       "4941                             1,262.10                              42.37   \n",
       "4942                               415.53                              61.83   \n",
       "4943                               547.03                                NaN   \n",
       "4944                                32.81                                NaN   \n",
       "\n",
       "      Nuclear Generation Estimated (in MU)  Hydro Generation Actual (in MU)  \\\n",
       "4940                                 23.41                           348.72   \n",
       "4941                                 36.63                            54.67   \n",
       "4942                                 26.28                            93.49   \n",
       "4943                                   NaN                            87.22   \n",
       "4944                                   NaN                            29.87   \n",
       "\n",
       "      Hydro Generation Estimated (in MU)  \n",
       "4940                              351.98  \n",
       "4941                               20.28  \n",
       "4942                               77.25  \n",
       "4943                               93.78  \n",
       "4944                               29.96  "
      ]
     },
     "execution_count": 4,
     "metadata": {},
     "output_type": "execute_result"
    }
   ],
   "source": [
    "# five elements from the end\n",
    "data.tail()"
   ]
  },
  {
   "cell_type": "code",
   "execution_count": 5,
   "metadata": {},
   "outputs": [
    {
     "data": {
      "text/plain": [
       "Index(['index', 'Date', 'Region', 'Thermal Generation Actual (in MU)',\n",
       "       'Thermal Generation Estimated (in MU)',\n",
       "       'Nuclear Generation Actual (in MU)',\n",
       "       'Nuclear Generation Estimated (in MU)',\n",
       "       'Hydro Generation Actual (in MU)',\n",
       "       'Hydro Generation Estimated (in MU)'],\n",
       "      dtype='object')"
      ]
     },
     "execution_count": 5,
     "metadata": {},
     "output_type": "execute_result"
    }
   ],
   "source": [
    "# coluns in the dataframe\n",
    "data.columns"
   ]
  },
  {
   "cell_type": "code",
   "execution_count": 6,
   "metadata": {},
   "outputs": [
    {
     "data": {
      "text/html": [
       "<div>\n",
       "<style scoped>\n",
       "    .dataframe tbody tr th:only-of-type {\n",
       "        vertical-align: middle;\n",
       "    }\n",
       "\n",
       "    .dataframe tbody tr th {\n",
       "        vertical-align: top;\n",
       "    }\n",
       "\n",
       "    .dataframe thead th {\n",
       "        text-align: right;\n",
       "    }\n",
       "</style>\n",
       "<table border=\"1\" class=\"dataframe\">\n",
       "  <thead>\n",
       "    <tr style=\"text-align: right;\">\n",
       "      <th></th>\n",
       "      <th>index</th>\n",
       "      <th>Nuclear Generation Actual (in MU)</th>\n",
       "      <th>Nuclear Generation Estimated (in MU)</th>\n",
       "      <th>Hydro Generation Actual (in MU)</th>\n",
       "      <th>Hydro Generation Estimated (in MU)</th>\n",
       "    </tr>\n",
       "  </thead>\n",
       "  <tbody>\n",
       "    <tr>\n",
       "      <th>count</th>\n",
       "      <td>4945.000000</td>\n",
       "      <td>2967.000000</td>\n",
       "      <td>2967.000000</td>\n",
       "      <td>4945.000000</td>\n",
       "      <td>4945.000000</td>\n",
       "    </tr>\n",
       "    <tr>\n",
       "      <th>mean</th>\n",
       "      <td>2181.433771</td>\n",
       "      <td>37.242208</td>\n",
       "      <td>36.987877</td>\n",
       "      <td>73.305921</td>\n",
       "      <td>76.842965</td>\n",
       "    </tr>\n",
       "    <tr>\n",
       "      <th>std</th>\n",
       "      <td>1397.754755</td>\n",
       "      <td>15.883968</td>\n",
       "      <td>11.491292</td>\n",
       "      <td>74.482145</td>\n",
       "      <td>82.043952</td>\n",
       "    </tr>\n",
       "    <tr>\n",
       "      <th>min</th>\n",
       "      <td>0.000000</td>\n",
       "      <td>0.000000</td>\n",
       "      <td>0.000000</td>\n",
       "      <td>0.000000</td>\n",
       "      <td>0.000000</td>\n",
       "    </tr>\n",
       "    <tr>\n",
       "      <th>25%</th>\n",
       "      <td>926.000000</td>\n",
       "      <td>26.140000</td>\n",
       "      <td>30.190000</td>\n",
       "      <td>26.910000</td>\n",
       "      <td>23.310000</td>\n",
       "    </tr>\n",
       "    <tr>\n",
       "      <th>50%</th>\n",
       "      <td>2162.000000</td>\n",
       "      <td>30.720000</td>\n",
       "      <td>34.840000</td>\n",
       "      <td>52.960000</td>\n",
       "      <td>50.270000</td>\n",
       "    </tr>\n",
       "    <tr>\n",
       "      <th>75%</th>\n",
       "      <td>3398.000000</td>\n",
       "      <td>46.830000</td>\n",
       "      <td>43.075000</td>\n",
       "      <td>85.940000</td>\n",
       "      <td>95.800000</td>\n",
       "    </tr>\n",
       "    <tr>\n",
       "      <th>max</th>\n",
       "      <td>4634.000000</td>\n",
       "      <td>68.740000</td>\n",
       "      <td>76.640000</td>\n",
       "      <td>348.720000</td>\n",
       "      <td>397.380000</td>\n",
       "    </tr>\n",
       "  </tbody>\n",
       "</table>\n",
       "</div>"
      ],
      "text/plain": [
       "             index  Nuclear Generation Actual (in MU)  \\\n",
       "count  4945.000000                        2967.000000   \n",
       "mean   2181.433771                          37.242208   \n",
       "std    1397.754755                          15.883968   \n",
       "min       0.000000                           0.000000   \n",
       "25%     926.000000                          26.140000   \n",
       "50%    2162.000000                          30.720000   \n",
       "75%    3398.000000                          46.830000   \n",
       "max    4634.000000                          68.740000   \n",
       "\n",
       "       Nuclear Generation Estimated (in MU)  Hydro Generation Actual (in MU)  \\\n",
       "count                           2967.000000                      4945.000000   \n",
       "mean                              36.987877                        73.305921   \n",
       "std                               11.491292                        74.482145   \n",
       "min                                0.000000                         0.000000   \n",
       "25%                               30.190000                        26.910000   \n",
       "50%                               34.840000                        52.960000   \n",
       "75%                               43.075000                        85.940000   \n",
       "max                               76.640000                       348.720000   \n",
       "\n",
       "       Hydro Generation Estimated (in MU)  \n",
       "count                         4945.000000  \n",
       "mean                            76.842965  \n",
       "std                             82.043952  \n",
       "min                              0.000000  \n",
       "25%                             23.310000  \n",
       "50%                             50.270000  \n",
       "75%                             95.800000  \n",
       "max                            397.380000  "
      ]
     },
     "execution_count": 6,
     "metadata": {},
     "output_type": "execute_result"
    }
   ],
   "source": [
    "#description of data\n",
    "data.describe()"
   ]
  },
  {
   "cell_type": "code",
   "execution_count": 7,
   "metadata": {},
   "outputs": [
    {
     "name": "stdout",
     "output_type": "stream",
     "text": [
      "<class 'pandas.core.frame.DataFrame'>\n",
      "RangeIndex: 4945 entries, 0 to 4944\n",
      "Data columns (total 9 columns):\n",
      " #   Column                                Non-Null Count  Dtype  \n",
      "---  ------                                --------------  -----  \n",
      " 0   index                                 4945 non-null   int64  \n",
      " 1   Date                                  4945 non-null   object \n",
      " 2   Region                                4945 non-null   object \n",
      " 3   Thermal Generation Actual (in MU)     4945 non-null   object \n",
      " 4   Thermal Generation Estimated (in MU)  4945 non-null   object \n",
      " 5   Nuclear Generation Actual (in MU)     2967 non-null   float64\n",
      " 6   Nuclear Generation Estimated (in MU)  2967 non-null   float64\n",
      " 7   Hydro Generation Actual (in MU)       4945 non-null   float64\n",
      " 8   Hydro Generation Estimated (in MU)    4945 non-null   float64\n",
      "dtypes: float64(4), int64(1), object(4)\n",
      "memory usage: 347.8+ KB\n"
     ]
    }
   ],
   "source": [
    "# information of the data\n",
    "data.info()"
   ]
  },
  {
   "cell_type": "markdown",
   "metadata": {},
   "source": [
    "### Visualisation"
   ]
  },
  {
   "cell_type": "code",
   "execution_count": 8,
   "metadata": {},
   "outputs": [
    {
     "data": {
      "image/png": "[encoded data removed]",
      "text/plain": [
       "<Figure size 720x576 with 1 Axes>"
      ]
     },
     "metadata": {
      "needs_background": "light"
     },
     "output_type": "display_data"
    }
   ],
   "source": [
    "plt.figure(figsize=(10,8))\n",
    "sns.countplot(data['Region'])\n",
    "plt.title('Count plot of Regions')\n",
    "plt.show()"
   ]
  },
  {
   "cell_type": "markdown",
   "metadata": {},
   "source": [
    "**The dataset is balanced, as there is equal number of data points for every Region.**"
   ]
  },
  {
   "cell_type": "markdown",
   "metadata": {},
   "source": [
    "### Handling missing values"
   ]
  },
  {
   "cell_type": "code",
   "execution_count": 9,
   "metadata": {},
   "outputs": [
    {
     "data": {
      "text/plain": [
       "(4945, 8)"
      ]
     },
     "execution_count": 9,
     "metadata": {},
     "output_type": "execute_result"
    }
   ],
   "source": [
    "data=data.drop('index',axis=1)\n",
    "data.shape"
   ]
  },
  {
   "cell_type": "code",
   "execution_count": 10,
   "metadata": {},
   "outputs": [
    {
     "data": {
      "text/plain": [
       "Date                                       0\n",
       "Region                                     0\n",
       "Thermal Generation Actual (in MU)          0\n",
       "Thermal Generation Estimated (in MU)       0\n",
       "Nuclear Generation Actual (in MU)       1978\n",
       "Nuclear Generation Estimated (in MU)    1978\n",
       "Hydro Generation Actual (in MU)            0\n",
       "Hydro Generation Estimated (in MU)         0\n",
       "dtype: int64"
      ]
     },
     "execution_count": 10,
     "metadata": {},
     "output_type": "execute_result"
    }
   ],
   "source": [
    "# count of null values in the data\n",
    "data.isna().sum()"
   ]
  },
  {
   "cell_type": "code",
   "execution_count": 11,
   "metadata": {},
   "outputs": [
    {
     "data": {
      "text/plain": [
       "Date                                    0.0\n",
       "Region                                  0.0\n",
       "Thermal Generation Actual (in MU)       0.0\n",
       "Thermal Generation Estimated (in MU)    0.0\n",
       "Nuclear Generation Actual (in MU)       0.4\n",
       "Nuclear Generation Estimated (in MU)    0.4\n",
       "Hydro Generation Actual (in MU)         0.0\n",
       "Hydro Generation Estimated (in MU)      0.0\n",
       "dtype: float64"
      ]
     },
     "execution_count": 11,
     "metadata": {},
     "output_type": "execute_result"
    }
   ],
   "source": [
    "# percentage of missing values in the data\n",
    "data.isna().mean()"
   ]
  },
  {
   "cell_type": "markdown",
   "metadata": {},
   "source": [
    "**About 40% of the data is missing in Nuclear Generation Actual and Estimated**"
   ]
  },
  {
   "cell_type": "code",
   "execution_count": 12,
   "metadata": {},
   "outputs": [],
   "source": [
    "# filling the missing values\n",
    "for col in ['Nuclear Generation Actual (in MU)','Nuclear Generation Estimated (in MU)']:\n",
    "    data[col]=data[col].fillna(data[col].mean())"
   ]
  },
  {
   "cell_type": "code",
   "execution_count": 13,
   "metadata": {},
   "outputs": [
    {
     "data": {
      "text/plain": [
       "Date                                    0\n",
       "Region                                  0\n",
       "Thermal Generation Actual (in MU)       0\n",
       "Thermal Generation Estimated (in MU)    0\n",
       "Nuclear Generation Actual (in MU)       0\n",
       "Nuclear Generation Estimated (in MU)    0\n",
       "Hydro Generation Actual (in MU)         0\n",
       "Hydro Generation Estimated (in MU)      0\n",
       "dtype: int64"
      ]
     },
     "execution_count": 13,
     "metadata": {},
     "output_type": "execute_result"
    }
   ],
   "source": [
    "# count of null values in the data\n",
    "data.isna().sum()"
   ]
  },
  {
   "cell_type": "markdown",
   "metadata": {},
   "source": [
    "### Creating Month and Year Column"
   ]
  },
  {
   "cell_type": "code",
   "execution_count": 14,
   "metadata": {},
   "outputs": [],
   "source": [
    "data['year']=data['Date'].apply(lambda x: re.search('^[^-]*',x).group(0))"
   ]
  },
  {
   "cell_type": "code",
   "execution_count": 15,
   "metadata": {},
   "outputs": [
    {
     "data": {
      "text/html": [
       "<div>\n",
       "<style scoped>\n",
       "    .dataframe tbody tr th:only-of-type {\n",
       "        vertical-align: middle;\n",
       "    }\n",
       "\n",
       "    .dataframe tbody tr th {\n",
       "        vertical-align: top;\n",
       "    }\n",
       "\n",
       "    .dataframe thead th {\n",
       "        text-align: right;\n",
       "    }\n",
       "</style>\n",
       "<table border=\"1\" class=\"dataframe\">\n",
       "  <thead>\n",
       "    <tr style=\"text-align: right;\">\n",
       "      <th></th>\n",
       "      <th>Date</th>\n",
       "      <th>Region</th>\n",
       "      <th>Thermal Generation Actual (in MU)</th>\n",
       "      <th>Thermal Generation Estimated (in MU)</th>\n",
       "      <th>Nuclear Generation Actual (in MU)</th>\n",
       "      <th>Nuclear Generation Estimated (in MU)</th>\n",
       "      <th>Hydro Generation Actual (in MU)</th>\n",
       "      <th>Hydro Generation Estimated (in MU)</th>\n",
       "      <th>year</th>\n",
       "    </tr>\n",
       "  </thead>\n",
       "  <tbody>\n",
       "    <tr>\n",
       "      <th>0</th>\n",
       "      <td>2017-09-01</td>\n",
       "      <td>Northern</td>\n",
       "      <td>624.23</td>\n",
       "      <td>484.21</td>\n",
       "      <td>30.360000</td>\n",
       "      <td>35.570000</td>\n",
       "      <td>273.27</td>\n",
       "      <td>320.81</td>\n",
       "      <td>2017</td>\n",
       "    </tr>\n",
       "    <tr>\n",
       "      <th>1</th>\n",
       "      <td>2017-09-01</td>\n",
       "      <td>Western</td>\n",
       "      <td>1,106.89</td>\n",
       "      <td>1,024.33</td>\n",
       "      <td>25.170000</td>\n",
       "      <td>3.810000</td>\n",
       "      <td>72.00</td>\n",
       "      <td>21.53</td>\n",
       "      <td>2017</td>\n",
       "    </tr>\n",
       "    <tr>\n",
       "      <th>2</th>\n",
       "      <td>2017-09-01</td>\n",
       "      <td>Southern</td>\n",
       "      <td>576.66</td>\n",
       "      <td>578.55</td>\n",
       "      <td>62.730000</td>\n",
       "      <td>49.800000</td>\n",
       "      <td>111.57</td>\n",
       "      <td>64.78</td>\n",
       "      <td>2017</td>\n",
       "    </tr>\n",
       "    <tr>\n",
       "      <th>3</th>\n",
       "      <td>2017-09-01</td>\n",
       "      <td>Eastern</td>\n",
       "      <td>441.02</td>\n",
       "      <td>429.39</td>\n",
       "      <td>37.242208</td>\n",
       "      <td>36.987877</td>\n",
       "      <td>85.94</td>\n",
       "      <td>69.36</td>\n",
       "      <td>2017</td>\n",
       "    </tr>\n",
       "    <tr>\n",
       "      <th>4</th>\n",
       "      <td>2017-09-01</td>\n",
       "      <td>NorthEastern</td>\n",
       "      <td>29.11</td>\n",
       "      <td>15.91</td>\n",
       "      <td>37.242208</td>\n",
       "      <td>36.987877</td>\n",
       "      <td>24.64</td>\n",
       "      <td>21.21</td>\n",
       "      <td>2017</td>\n",
       "    </tr>\n",
       "  </tbody>\n",
       "</table>\n",
       "</div>"
      ],
      "text/plain": [
       "         Date        Region Thermal Generation Actual (in MU)  \\\n",
       "0  2017-09-01      Northern                            624.23   \n",
       "1  2017-09-01       Western                          1,106.89   \n",
       "2  2017-09-01      Southern                            576.66   \n",
       "3  2017-09-01       Eastern                            441.02   \n",
       "4  2017-09-01  NorthEastern                             29.11   \n",
       "\n",
       "  Thermal Generation Estimated (in MU)  Nuclear Generation Actual (in MU)  \\\n",
       "0                               484.21                          30.360000   \n",
       "1                             1,024.33                          25.170000   \n",
       "2                               578.55                          62.730000   \n",
       "3                               429.39                          37.242208   \n",
       "4                                15.91                          37.242208   \n",
       "\n",
       "   Nuclear Generation Estimated (in MU)  Hydro Generation Actual (in MU)  \\\n",
       "0                             35.570000                           273.27   \n",
       "1                              3.810000                            72.00   \n",
       "2                             49.800000                           111.57   \n",
       "3                             36.987877                            85.94   \n",
       "4                             36.987877                            24.64   \n",
       "\n",
       "   Hydro Generation Estimated (in MU)  year  \n",
       "0                              320.81  2017  \n",
       "1                               21.53  2017  \n",
       "2                               64.78  2017  \n",
       "3                               69.36  2017  \n",
       "4                               21.21  2017  "
      ]
     },
     "execution_count": 15,
     "metadata": {},
     "output_type": "execute_result"
    }
   ],
   "source": [
    "# five elements from the top\n",
    "data.head()"
   ]
  },
  {
   "cell_type": "code",
   "execution_count": 16,
   "metadata": {},
   "outputs": [],
   "source": [
    "for col in ['Thermal Generation Actual (in MU)','Thermal Generation Estimated (in MU)']:\n",
    "    data[col]=data[col].apply(lambda x:x.replace(',',''))"
   ]
  },
  {
   "cell_type": "code",
   "execution_count": 17,
   "metadata": {},
   "outputs": [
    {
     "data": {
      "text/html": [
       "<div>\n",
       "<style scoped>\n",
       "    .dataframe tbody tr th:only-of-type {\n",
       "        vertical-align: middle;\n",
       "    }\n",
       "\n",
       "    .dataframe tbody tr th {\n",
       "        vertical-align: top;\n",
       "    }\n",
       "\n",
       "    .dataframe thead th {\n",
       "        text-align: right;\n",
       "    }\n",
       "</style>\n",
       "<table border=\"1\" class=\"dataframe\">\n",
       "  <thead>\n",
       "    <tr style=\"text-align: right;\">\n",
       "      <th></th>\n",
       "      <th>Date</th>\n",
       "      <th>Region</th>\n",
       "      <th>Thermal Generation Actual (in MU)</th>\n",
       "      <th>Thermal Generation Estimated (in MU)</th>\n",
       "      <th>Nuclear Generation Actual (in MU)</th>\n",
       "      <th>Nuclear Generation Estimated (in MU)</th>\n",
       "      <th>Hydro Generation Actual (in MU)</th>\n",
       "      <th>Hydro Generation Estimated (in MU)</th>\n",
       "      <th>year</th>\n",
       "    </tr>\n",
       "  </thead>\n",
       "  <tbody>\n",
       "    <tr>\n",
       "      <th>0</th>\n",
       "      <td>2017-09-01</td>\n",
       "      <td>Northern</td>\n",
       "      <td>624.23</td>\n",
       "      <td>484.21</td>\n",
       "      <td>30.360000</td>\n",
       "      <td>35.570000</td>\n",
       "      <td>273.27</td>\n",
       "      <td>320.81</td>\n",
       "      <td>2017</td>\n",
       "    </tr>\n",
       "    <tr>\n",
       "      <th>1</th>\n",
       "      <td>2017-09-01</td>\n",
       "      <td>Western</td>\n",
       "      <td>1106.89</td>\n",
       "      <td>1024.33</td>\n",
       "      <td>25.170000</td>\n",
       "      <td>3.810000</td>\n",
       "      <td>72.00</td>\n",
       "      <td>21.53</td>\n",
       "      <td>2017</td>\n",
       "    </tr>\n",
       "    <tr>\n",
       "      <th>2</th>\n",
       "      <td>2017-09-01</td>\n",
       "      <td>Southern</td>\n",
       "      <td>576.66</td>\n",
       "      <td>578.55</td>\n",
       "      <td>62.730000</td>\n",
       "      <td>49.800000</td>\n",
       "      <td>111.57</td>\n",
       "      <td>64.78</td>\n",
       "      <td>2017</td>\n",
       "    </tr>\n",
       "    <tr>\n",
       "      <th>3</th>\n",
       "      <td>2017-09-01</td>\n",
       "      <td>Eastern</td>\n",
       "      <td>441.02</td>\n",
       "      <td>429.39</td>\n",
       "      <td>37.242208</td>\n",
       "      <td>36.987877</td>\n",
       "      <td>85.94</td>\n",
       "      <td>69.36</td>\n",
       "      <td>2017</td>\n",
       "    </tr>\n",
       "    <tr>\n",
       "      <th>4</th>\n",
       "      <td>2017-09-01</td>\n",
       "      <td>NorthEastern</td>\n",
       "      <td>29.11</td>\n",
       "      <td>15.91</td>\n",
       "      <td>37.242208</td>\n",
       "      <td>36.987877</td>\n",
       "      <td>24.64</td>\n",
       "      <td>21.21</td>\n",
       "      <td>2017</td>\n",
       "    </tr>\n",
       "  </tbody>\n",
       "</table>\n",
       "</div>"
      ],
      "text/plain": [
       "         Date        Region Thermal Generation Actual (in MU)  \\\n",
       "0  2017-09-01      Northern                            624.23   \n",
       "1  2017-09-01       Western                           1106.89   \n",
       "2  2017-09-01      Southern                            576.66   \n",
       "3  2017-09-01       Eastern                            441.02   \n",
       "4  2017-09-01  NorthEastern                             29.11   \n",
       "\n",
       "  Thermal Generation Estimated (in MU)  Nuclear Generation Actual (in MU)  \\\n",
       "0                               484.21                          30.360000   \n",
       "1                              1024.33                          25.170000   \n",
       "2                               578.55                          62.730000   \n",
       "3                               429.39                          37.242208   \n",
       "4                                15.91                          37.242208   \n",
       "\n",
       "   Nuclear Generation Estimated (in MU)  Hydro Generation Actual (in MU)  \\\n",
       "0                             35.570000                           273.27   \n",
       "1                              3.810000                            72.00   \n",
       "2                             49.800000                           111.57   \n",
       "3                             36.987877                            85.94   \n",
       "4                             36.987877                            24.64   \n",
       "\n",
       "   Hydro Generation Estimated (in MU)  year  \n",
       "0                              320.81  2017  \n",
       "1                               21.53  2017  \n",
       "2                               64.78  2017  \n",
       "3                               69.36  2017  \n",
       "4                               21.21  2017  "
      ]
     },
     "execution_count": 17,
     "metadata": {},
     "output_type": "execute_result"
    }
   ],
   "source": [
    "data.head()"
   ]
  },
  {
   "cell_type": "code",
   "execution_count": 18,
   "metadata": {},
   "outputs": [
    {
     "data": {
      "image/png": "[encoded data removed]",
      "text/plain": [
       "<Figure size 720x720 with 2 Axes>"
      ]
     },
     "metadata": {
      "needs_background": "light"
     },
     "output_type": "display_data"
    }
   ],
   "source": [
    "plt.figure(figsize=(10,10))\n",
    "sns.heatmap(data.corr(),vmin=-1,vmax=1)\n",
    "plt.title('Correlation of the Data')\n",
    "plt.show()"
   ]
  },
  {
   "cell_type": "code",
   "execution_count": 19,
   "metadata": {},
   "outputs": [],
   "source": [
    "y=data['Region']\n",
    "x=data.drop(['Region','Date'],axis=1)"
   ]
  },
  {
   "cell_type": "code",
   "execution_count": 20,
   "metadata": {},
   "outputs": [
    {
     "data": {
      "text/html": [
       "<div>\n",
       "<style scoped>\n",
       "    .dataframe tbody tr th:only-of-type {\n",
       "        vertical-align: middle;\n",
       "    }\n",
       "\n",
       "    .dataframe tbody tr th {\n",
       "        vertical-align: top;\n",
       "    }\n",
       "\n",
       "    .dataframe thead th {\n",
       "        text-align: right;\n",
       "    }\n",
       "</style>\n",
       "<table border=\"1\" class=\"dataframe\">\n",
       "  <thead>\n",
       "    <tr style=\"text-align: right;\">\n",
       "      <th></th>\n",
       "      <th>Thermal Generation Actual (in MU)</th>\n",
       "      <th>Thermal Generation Estimated (in MU)</th>\n",
       "      <th>Nuclear Generation Actual (in MU)</th>\n",
       "      <th>Nuclear Generation Estimated (in MU)</th>\n",
       "      <th>Hydro Generation Actual (in MU)</th>\n",
       "      <th>Hydro Generation Estimated (in MU)</th>\n",
       "      <th>year</th>\n",
       "    </tr>\n",
       "  </thead>\n",
       "  <tbody>\n",
       "    <tr>\n",
       "      <th>0</th>\n",
       "      <td>624.23</td>\n",
       "      <td>484.21</td>\n",
       "      <td>30.360000</td>\n",
       "      <td>35.570000</td>\n",
       "      <td>273.27</td>\n",
       "      <td>320.81</td>\n",
       "      <td>2017.0</td>\n",
       "    </tr>\n",
       "    <tr>\n",
       "      <th>1</th>\n",
       "      <td>1106.89</td>\n",
       "      <td>1024.33</td>\n",
       "      <td>25.170000</td>\n",
       "      <td>3.810000</td>\n",
       "      <td>72.00</td>\n",
       "      <td>21.53</td>\n",
       "      <td>2017.0</td>\n",
       "    </tr>\n",
       "    <tr>\n",
       "      <th>2</th>\n",
       "      <td>576.66</td>\n",
       "      <td>578.55</td>\n",
       "      <td>62.730000</td>\n",
       "      <td>49.800000</td>\n",
       "      <td>111.57</td>\n",
       "      <td>64.78</td>\n",
       "      <td>2017.0</td>\n",
       "    </tr>\n",
       "    <tr>\n",
       "      <th>3</th>\n",
       "      <td>441.02</td>\n",
       "      <td>429.39</td>\n",
       "      <td>37.242208</td>\n",
       "      <td>36.987877</td>\n",
       "      <td>85.94</td>\n",
       "      <td>69.36</td>\n",
       "      <td>2017.0</td>\n",
       "    </tr>\n",
       "    <tr>\n",
       "      <th>4</th>\n",
       "      <td>29.11</td>\n",
       "      <td>15.91</td>\n",
       "      <td>37.242208</td>\n",
       "      <td>36.987877</td>\n",
       "      <td>24.64</td>\n",
       "      <td>21.21</td>\n",
       "      <td>2017.0</td>\n",
       "    </tr>\n",
       "  </tbody>\n",
       "</table>\n",
       "</div>"
      ],
      "text/plain": [
       "   Thermal Generation Actual (in MU)  Thermal Generation Estimated (in MU)  \\\n",
       "0                             624.23                                484.21   \n",
       "1                            1106.89                               1024.33   \n",
       "2                             576.66                                578.55   \n",
       "3                             441.02                                429.39   \n",
       "4                              29.11                                 15.91   \n",
       "\n",
       "   Nuclear Generation Actual (in MU)  Nuclear Generation Estimated (in MU)  \\\n",
       "0                          30.360000                             35.570000   \n",
       "1                          25.170000                              3.810000   \n",
       "2                          62.730000                             49.800000   \n",
       "3                          37.242208                             36.987877   \n",
       "4                          37.242208                             36.987877   \n",
       "\n",
       "   Hydro Generation Actual (in MU)  Hydro Generation Estimated (in MU)    year  \n",
       "0                           273.27                              320.81  2017.0  \n",
       "1                            72.00                               21.53  2017.0  \n",
       "2                           111.57                               64.78  2017.0  \n",
       "3                            85.94                               69.36  2017.0  \n",
       "4                            24.64                               21.21  2017.0  "
      ]
     },
     "execution_count": 20,
     "metadata": {},
     "output_type": "execute_result"
    }
   ],
   "source": [
    "x=x.astype(np.float)\n",
    "x.head()"
   ]
  },
  {
   "cell_type": "code",
   "execution_count": 21,
   "metadata": {},
   "outputs": [
    {
     "name": "stdout",
     "output_type": "stream",
     "text": [
      "Number of unique elements in the column:  Thermal Generation Actual (in MU)  is:    1388\n",
      "Number of unique elements in the column:  Thermal Generation Estimated (in MU)  is:    4543\n",
      "Number of unique elements in the column:  Nuclear Generation Actual (in MU)  is:    90\n",
      "Number of unique elements in the column:  Nuclear Generation Estimated (in MU)  is:    1693\n",
      "Number of unique elements in the column:  Hydro Generation Actual (in MU)  is:    172\n",
      "Number of unique elements in the column:  Hydro Generation Estimated (in MU)  is:    4117\n",
      "Number of unique elements in the column:  year  is:    4\n"
     ]
    }
   ],
   "source": [
    "for col in list(x.columns):\n",
    "    n=len(pd.unique(x[col]))\n",
    "    print(\"Number of unique elements in the column: \",col,\" is:   \",n)"
   ]
  },
  {
   "cell_type": "code",
   "execution_count": 22,
   "metadata": {},
   "outputs": [
    {
     "data": {
      "text/plain": [
       "2019.0    1825\n",
       "2018.0    1820\n",
       "2020.0     695\n",
       "2017.0     605\n",
       "Name: year, dtype: int64"
      ]
     },
     "execution_count": 22,
     "metadata": {},
     "output_type": "execute_result"
    }
   ],
   "source": [
    "x['year'].value_counts()"
   ]
  },
  {
   "cell_type": "code",
   "execution_count": 23,
   "metadata": {},
   "outputs": [],
   "source": [
    "x=pd.get_dummies(x,columns=['year'])"
   ]
  },
  {
   "cell_type": "code",
   "execution_count": 24,
   "metadata": {},
   "outputs": [],
   "source": [
    "from sklearn.preprocessing import StandardScaler\n",
    "sc=StandardScaler()\n",
    "col=['Thermal Generation Actual (in MU)','Thermal Generation Estimated (in MU)','Nuclear Generation Actual (in MU)','Nuclear Generation Estimated (in MU)','Hydro Generation Actual (in MU)','Hydro Generation Estimated (in MU)']\n",
    "x[col]=sc.fit_transform(x[col])"
   ]
  },
  {
   "cell_type": "code",
   "execution_count": 25,
   "metadata": {},
   "outputs": [
    {
     "data": {
      "text/html": [
       "<div>\n",
       "<style scoped>\n",
       "    .dataframe tbody tr th:only-of-type {\n",
       "        vertical-align: middle;\n",
       "    }\n",
       "\n",
       "    .dataframe tbody tr th {\n",
       "        vertical-align: top;\n",
       "    }\n",
       "\n",
       "    .dataframe thead th {\n",
       "        text-align: right;\n",
       "    }\n",
       "</style>\n",
       "<table border=\"1\" class=\"dataframe\">\n",
       "  <thead>\n",
       "    <tr style=\"text-align: right;\">\n",
       "      <th></th>\n",
       "      <th>Thermal Generation Actual (in MU)</th>\n",
       "      <th>Thermal Generation Estimated (in MU)</th>\n",
       "      <th>Nuclear Generation Actual (in MU)</th>\n",
       "      <th>Nuclear Generation Estimated (in MU)</th>\n",
       "      <th>Hydro Generation Actual (in MU)</th>\n",
       "      <th>Hydro Generation Estimated (in MU)</th>\n",
       "      <th>year_2017.0</th>\n",
       "      <th>year_2018.0</th>\n",
       "      <th>year_2019.0</th>\n",
       "      <th>year_2020.0</th>\n",
       "    </tr>\n",
       "  </thead>\n",
       "  <tbody>\n",
       "    <tr>\n",
       "      <th>0</th>\n",
       "      <td>0.052808</td>\n",
       "      <td>-0.237865</td>\n",
       "      <td>-5.594565e-01</td>\n",
       "      <td>-1.593189e-01</td>\n",
       "      <td>2.684997</td>\n",
       "      <td>2.973915</td>\n",
       "      <td>1</td>\n",
       "      <td>0</td>\n",
       "      <td>0</td>\n",
       "      <td>0</td>\n",
       "    </tr>\n",
       "    <tr>\n",
       "      <th>1</th>\n",
       "      <td>1.311389</td>\n",
       "      <td>1.171088</td>\n",
       "      <td>-9.813530e-01</td>\n",
       "      <td>-3.728012e+00</td>\n",
       "      <td>-0.017535</td>\n",
       "      <td>-0.674255</td>\n",
       "      <td>1</td>\n",
       "      <td>0</td>\n",
       "      <td>0</td>\n",
       "      <td>0</td>\n",
       "    </tr>\n",
       "    <tr>\n",
       "      <th>2</th>\n",
       "      <td>-0.071235</td>\n",
       "      <td>0.008230</td>\n",
       "      <td>2.071910e+00</td>\n",
       "      <td>1.439627e+00</td>\n",
       "      <td>0.513787</td>\n",
       "      <td>-0.147045</td>\n",
       "      <td>1</td>\n",
       "      <td>0</td>\n",
       "      <td>0</td>\n",
       "      <td>0</td>\n",
       "    </tr>\n",
       "    <tr>\n",
       "      <th>3</th>\n",
       "      <td>-0.424929</td>\n",
       "      <td>-0.380868</td>\n",
       "      <td>2.945771e-14</td>\n",
       "      <td>-1.596794e-15</td>\n",
       "      <td>0.169643</td>\n",
       "      <td>-0.091216</td>\n",
       "      <td>1</td>\n",
       "      <td>0</td>\n",
       "      <td>0</td>\n",
       "      <td>0</td>\n",
       "    </tr>\n",
       "    <tr>\n",
       "      <th>4</th>\n",
       "      <td>-1.499023</td>\n",
       "      <td>-1.459469</td>\n",
       "      <td>2.945771e-14</td>\n",
       "      <td>-1.596794e-15</td>\n",
       "      <td>-0.653457</td>\n",
       "      <td>-0.678156</td>\n",
       "      <td>1</td>\n",
       "      <td>0</td>\n",
       "      <td>0</td>\n",
       "      <td>0</td>\n",
       "    </tr>\n",
       "  </tbody>\n",
       "</table>\n",
       "</div>"
      ],
      "text/plain": [
       "   Thermal Generation Actual (in MU)  Thermal Generation Estimated (in MU)  \\\n",
       "0                           0.052808                             -0.237865   \n",
       "1                           1.311389                              1.171088   \n",
       "2                          -0.071235                              0.008230   \n",
       "3                          -0.424929                             -0.380868   \n",
       "4                          -1.499023                             -1.459469   \n",
       "\n",
       "   Nuclear Generation Actual (in MU)  Nuclear Generation Estimated (in MU)  \\\n",
       "0                      -5.594565e-01                         -1.593189e-01   \n",
       "1                      -9.813530e-01                         -3.728012e+00   \n",
       "2                       2.071910e+00                          1.439627e+00   \n",
       "3                       2.945771e-14                         -1.596794e-15   \n",
       "4                       2.945771e-14                         -1.596794e-15   \n",
       "\n",
       "   Hydro Generation Actual (in MU)  Hydro Generation Estimated (in MU)  \\\n",
       "0                         2.684997                            2.973915   \n",
       "1                        -0.017535                           -0.674255   \n",
       "2                         0.513787                           -0.147045   \n",
       "3                         0.169643                           -0.091216   \n",
       "4                        -0.653457                           -0.678156   \n",
       "\n",
       "   year_2017.0  year_2018.0  year_2019.0  year_2020.0  \n",
       "0            1            0            0            0  \n",
       "1            1            0            0            0  \n",
       "2            1            0            0            0  \n",
       "3            1            0            0            0  \n",
       "4            1            0            0            0  "
      ]
     },
     "execution_count": 25,
     "metadata": {},
     "output_type": "execute_result"
    }
   ],
   "source": [
    "x.head()"
   ]
  },
  {
   "cell_type": "code",
   "execution_count": 26,
   "metadata": {},
   "outputs": [
    {
     "name": "stdout",
     "output_type": "stream",
     "text": [
      "(3956, 10) (3956,)\n",
      "(989, 10) (989,)\n"
     ]
    }
   ],
   "source": [
    "from sklearn.model_selection import train_test_split as tts,GridSearchCV\n",
    "xtrain,xtest,ytrain,ytest=tts(x,y,test_size=0.2,random_state=42)\n",
    "print(xtrain.shape,ytrain.shape)\n",
    "print(xtest.shape,ytest.shape)"
   ]
  },
  {
   "cell_type": "markdown",
   "metadata": {},
   "source": [
    "### Model Making"
   ]
  },
  {
   "cell_type": "code",
   "execution_count": 27,
   "metadata": {},
   "outputs": [
    {
     "name": "stdout",
     "output_type": "stream",
     "text": [
      "Best parameter for the model is:  {'C': 100}\n",
      "The accuracy of the model is:  99.89888776541962  %\n",
      "The confusion matrix is: \n",
      " [[191   0   0   0   0]\n",
      " [  0 213   0   0   0]\n",
      " [  0   0 203   0   0]\n",
      " [  0   0   0 194   0]\n",
      " [  0   0   1   0 187]]\n"
     ]
    }
   ],
   "source": [
    "from sklearn.linear_model import LogisticRegression\n",
    "from sklearn.metrics import confusion_matrix,accuracy_score\n",
    "param={'C':[0.001,0.01,0.1,1,10,100]}\n",
    "m1=GridSearchCV(LogisticRegression(max_iter=500),param,n_jobs=-1)\n",
    "m1.fit(xtrain,ytrain)\n",
    "print(\"Best parameter for the model is: \",m1.best_params_)\n",
    "\n",
    "ypred=m1.predict(xtest)\n",
    "print(\"The accuracy of the model is: \",accuracy_score(ytest,ypred)*100,\" %\")\n",
    "print(\"The confusion matrix is: \\n\",confusion_matrix(ytest,ypred))"
   ]
  },
  {
   "cell_type": "code",
   "execution_count": 28,
   "metadata": {},
   "outputs": [
    {
     "name": "stdout",
     "output_type": "stream",
     "text": [
      "The accuracy of the model is:  99.89888776541962  %\n",
      "The confusion matrix is: \n",
      " [[191   0   0   0   0]\n",
      " [  0 213   0   0   0]\n",
      " [  0   0 203   0   0]\n",
      " [  0   0   0 194   0]\n",
      " [  0   0   1   0 187]]\n"
     ]
    }
   ],
   "source": [
    "from sklearn.neural_network import MLPClassifier\n",
    "m2=MLPClassifier(hidden_layer_sizes=(64,64))\n",
    "m2.fit(xtrain,ytrain)\n",
    "ypred=m2.predict(xtest)\n",
    "print(\"The accuracy of the model is: \",accuracy_score(ytest,ypred)*100,\" %\")\n",
    "print(\"The confusion matrix is: \\n\",confusion_matrix(ytest,ypred))"
   ]
  },
  {
   "cell_type": "code",
   "execution_count": 29,
   "metadata": {},
   "outputs": [
    {
     "name": "stdout",
     "output_type": "stream",
     "text": [
      "Fitting 5 folds for each of 720 candidates, totalling 3600 fits\n"
     ]
    },
    {
     "name": "stderr",
     "output_type": "stream",
     "text": [
      "[Parallel(n_jobs=-1)]: Using backend LokyBackend with 8 concurrent workers.\n",
      "[Parallel(n_jobs=-1)]: Done  56 tasks      | elapsed:    0.2s\n",
      "[Parallel(n_jobs=-1)]: Done 2160 tasks      | elapsed:    4.7s\n"
     ]
    },
    {
     "name": "stdout",
     "output_type": "stream",
     "text": [
      "Best parameter for Decision Tree Classifier is:  {'criterion': 'gini', 'max_depth': 5, 'min_samples_leaf': 1, 'min_samples_split': 3}\n",
      "The accuracy of the model is:  99.89888776541962  %\n",
      "The confusion matrix is: \n",
      " [[191   0   0   0   0]\n",
      " [  0 213   0   0   0]\n",
      " [  0   0 203   0   0]\n",
      " [  0   0   0 194   0]\n",
      " [  0   0   0   1 187]]\n"
     ]
    },
    {
     "name": "stderr",
     "output_type": "stream",
     "text": [
      "[Parallel(n_jobs=-1)]: Done 3600 out of 3600 | elapsed:    8.4s finished\n"
     ]
    }
   ],
   "source": [
    "from sklearn.tree import DecisionTreeClassifier\n",
    "param={\"criterion\":[\"gini\",\"entropy\"],\"max_depth\":range(1,11),\"min_samples_split\":range(1,10),\"min_samples_leaf\":range(1,5)}\n",
    "m3=GridSearchCV(DecisionTreeClassifier(),param,n_jobs=-1,verbose=1)\n",
    "m3.fit(xtrain,ytrain)\n",
    "print(\"Best parameter for Decision Tree Classifier is: \",m3.best_params_)\n",
    "ypred=m3.predict(xtest)\n",
    "print(\"The accuracy of the model is: \",accuracy_score(ytest,ypred)*100,\" %\")\n",
    "print(\"The confusion matrix is: \\n\",confusion_matrix(ytest,ypred))"
   ]
  },
  {
   "cell_type": "code",
   "execution_count": null,
   "metadata": {},
   "outputs": [],
   "source": []
  }
 ],
 "metadata": {
  "kernelspec": {
   "display_name": "Python 3",
   "language": "python",
   "name": "python3"
  },
  "language_info": {
   "codemirror_mode": {
    "name": "ipython",
    "version": 3
   },
   "file_extension": ".py",
   "mimetype": "text/x-python",
   "name": "python",
   "nbconvert_exporter": "python",
   "pygments_lexer": "ipython3",
   "version": "3.7.6"
  }
 },
 "nbformat": 4,
 "nbformat_minor": 4
}
